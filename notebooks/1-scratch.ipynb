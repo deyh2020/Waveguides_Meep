{
 "cells": [
  {
   "cell_type": "code",
   "execution_count": 16,
   "id": "1b280d02-5355-418b-b088-adbd8a466a80",
   "metadata": {},
   "outputs": [],
   "source": [
    "import sys\n",
    "\n",
    "sys.path.append('../')\n",
    "import meep as mp\n",
    "import meep.materials as mt\n",
    "import matplotlib.pyplot as plt\n",
    "import numpy as np\n",
    "import utilities as util\n",
    "import h5py\n",
    "import clipboard_and_style_sheet\n",
    "from IPython.display import Video\n",
    "\n",
    "clipboard_and_style_sheet.style_sheet()"
   ]
  },
  {
   "cell_type": "markdown",
   "id": "3fda8c4d-9832-4e01-9c53-87092a810eb2",
   "metadata": {},
   "source": [
    "Set up the geometry of the problem. One waveguide laid out in the x direction"
   ]
  },
  {
   "cell_type": "code",
   "execution_count": 2,
   "id": "299478af-a75c-43b6-b3f8-f2369d47c95f",
   "metadata": {},
   "outputs": [],
   "source": [
    "wl_wvgd = 3.5\n",
    "n_center_wvl = mt.LiNbO3.epsilon(1 / wl_wvgd)[2, 2]  # z polarization\n",
    "w_wvgd = 0.5 * wl_wvgd / n_center_wvl  # width of the waveguide is half a wavelength wide\n",
    "\n",
    "dpml = 1  # PML thickness\n",
    "\n",
    "center_wvgd = mp.Vector3(0, 0, 0)  # where the waveguide is centered\n",
    "sx = 16  # size of the cell in the x direction\n",
    "sy = w_wvgd * 10  # size of the cell in y direction"
   ]
  },
  {
   "cell_type": "markdown",
   "id": "55a38c56-de7f-48fe-8b86-c1bfb0327dda",
   "metadata": {},
   "source": [
    "create the geometric objects from the above"
   ]
  },
  {
   "cell_type": "code",
   "execution_count": 3,
   "id": "eddaa8f7-8c41-4726-a61a-3169057984f9",
   "metadata": {},
   "outputs": [],
   "source": [
    "blk = mp.Block(size=mp.Vector3(mp.inf, w_wvgd, mp.inf), center=center_wvgd)\n",
    "cell = mp.Vector3(sx, sy, 0)\n",
    "PML = mp.PML(dpml)"
   ]
  },
  {
   "cell_type": "markdown",
   "id": "617166dc-a96e-459d-81a4-908ad43c1f01",
   "metadata": {},
   "source": [
    "set the appropriate media for the geometric objects"
   ]
  },
  {
   "cell_type": "code",
   "execution_count": 4,
   "id": "914fff2b-bd44-4e2c-87a6-234d7e0c32e7",
   "metadata": {},
   "outputs": [],
   "source": [
    "blk.material = mt.LiNbO3"
   ]
  },
  {
   "cell_type": "markdown",
   "id": "8fe9183c-9a85-4e80-947e-1c61df440df6",
   "metadata": {},
   "source": [
    "create the geometry and boundary layers list"
   ]
  },
  {
   "cell_type": "code",
   "execution_count": 5,
   "id": "8ddb755f-fb34-466e-a4ee-2a1f305e40bc",
   "metadata": {},
   "outputs": [],
   "source": [
    "geometry = [blk]\n",
    "boundary_layers = [PML]"
   ]
  },
  {
   "cell_type": "markdown",
   "id": "1e6940c1-137c-47c3-83d1-a07dce2397cf",
   "metadata": {},
   "source": [
    "Done with geometry, moving on to sources, initialize an empty list for sources and append sources as you go"
   ]
  },
  {
   "cell_type": "code",
   "execution_count": 6,
   "id": "5d34eece-d38d-4566-ae5d-d88e78ba06d4",
   "metadata": {},
   "outputs": [],
   "source": [
    "Sources = []"
   ]
  },
  {
   "cell_type": "markdown",
   "id": "c52e3943-0b67-4b56-b552-508cf7c987c0",
   "metadata": {},
   "source": [
    "create a gaussian source instance and place it at the front of the waveguide"
   ]
  },
  {
   "cell_type": "code",
   "execution_count": 7,
   "id": "bd8e2cc9-9d83-43e0-9e08-c8c7e294d8b1",
   "metadata": {},
   "outputs": [],
   "source": [
    "wl_src = 3.5\n",
    "src = mp.GaussianSource(wavelength=wl_src, width=5)\n",
    "pt = mp.Vector3() + center_wvgd\n",
    "source = mp.Source(src=src,\n",
    "                   component=mp.Ez,\n",
    "                   center=pt + mp.Vector3(0, 0.25 * w_wvgd),\n",
    "                   size=mp.Vector3())\n",
    "Sources.append(source)"
   ]
  },
  {
   "cell_type": "markdown",
   "id": "7e261336-dc2a-4ab7-875c-97b23a5b3fd9",
   "metadata": {},
   "source": [
    "Done with sources, initialize the simulation instance"
   ]
  },
  {
   "cell_type": "code",
   "execution_count": 8,
   "id": "0ae0d180-bc76-4ed0-bd8a-93ece9568261",
   "metadata": {},
   "outputs": [
    {
     "data": {
      "text/plain": [
       "'sim_output'"
      ]
     },
     "execution_count": 8,
     "metadata": {},
     "output_type": "execute_result"
    }
   ],
   "source": [
    "sim = mp.Simulation(cell_size=cell,\n",
    "                    geometry=geometry,\n",
    "                    sources=Sources,\n",
    "                    boundary_layers=boundary_layers,\n",
    "                    resolution=30)\n",
    "sim.use_output_directory('sim_output')"
   ]
  },
  {
   "cell_type": "markdown",
   "id": "5e9cf2fc-c441-41f8-b447-8e154c1cd2e0",
   "metadata": {},
   "source": [
    "symmetries to exploit"
   ]
  },
  {
   "cell_type": "code",
   "execution_count": 9,
   "id": "e4621174-d1bc-457f-94e7-854edcb8e559",
   "metadata": {},
   "outputs": [],
   "source": [
    "Sym = [mp.Mirror(direction=mp.X)]\n",
    "\n",
    "sim.symmetries = Sym"
   ]
  },
  {
   "cell_type": "markdown",
   "id": "573c552c-0e26-43cb-8e9c-e5d3adf9f80c",
   "metadata": {},
   "source": [
    "Run!"
   ]
  },
  {
   "cell_type": "code",
   "execution_count": 19,
   "id": "b83e2a40-ec63-4d28-b4cb-578415699dc5",
   "metadata": {},
   "outputs": [
    {
     "name": "stderr",
     "output_type": "stream",
     "text": [
      "Warning: grid volume is not an integer number of pixels; cell size will be rounded to nearest pixel.\n"
     ]
    },
    {
     "name": "stdout",
     "output_type": "stream",
     "text": [
      "-----------\n",
      "Initializing structure...\n",
      "Halving computational cell along direction x\n",
      "time for choose_chunkdivision = 0.000424147 s\n",
      "Working in 2D dimensions.\n",
      "Computational cell is 16 x 4.06667 x 0 with resolution 30\n",
      "     block, center = (0,0,0)\n",
      "          size (1e+20,0.405549,1e+20)\n",
      "          axes (1,0,0), (0,1,0), (0,0,1)\n",
      "          dielectric constant epsilon diagonal = (1,1,1)\n",
      "time for set_epsilon = 0.0416319 s\n",
      "lorentzian susceptibility: frequency=0.0490243, gamma=0\n",
      "lorentzian susceptibility: frequency=3.87492, gamma=0\n",
      "lorentzian susceptibility: frequency=6.98942, gamma=0\n",
      "lorentzian susceptibility: frequency=0.0459025, gamma=0\n",
      "lorentzian susceptibility: frequency=4.11206, gamma=0\n",
      "lorentzian susceptibility: frequency=7.52923, gamma=0\n",
      "-----------\n",
      "Meep: using output directory 'sim_output'\n",
      "creating output file \"sim_output/eps-000000.00.h5\"...\n"
     ]
    },
    {
     "name": "stderr",
     "output_type": "stream",
     "text": [
      "/home/peterchang/miniconda3/envs/idp/lib/python3.10/site-packages/meep/simulation.py:1344: RuntimeWarning: Note: your sources include frequencies outside the range of validity of the material models. This is fine as long as you eventually only look at outputs (fluxes, resonant modes, etc.) at valid frequencies.\n",
      "  warnings.warn(warn_src, RuntimeWarning)\n",
      "Warning: grid volume is not an integer number of pixels; cell size will be rounded to nearest pixel.\n"
     ]
    },
    {
     "name": "stdout",
     "output_type": "stream",
     "text": [
      "     block, center = (0,0,0)\n",
      "          size (1e+20,0.405549,1e+20)\n",
      "          axes (1,0,0), (0,1,0), (0,0,1)\n",
      "          dielectric constant epsilon diagonal = (1,1,1)\n",
      "field decay(t = 50.016666666666666): 0.332340509104965 / 0.332340509104965 = 1.0\n",
      "field decay(t = 100.01666666666667): 1.4567804532034142e-07 / 0.332340509104965 = 4.38339718840387e-07\n",
      "Normalizing field data...\n",
      "run 3 finished at t = 100.01666666666667 (6001 timesteps)\n"
     ]
    }
   ],
   "source": [
    "f = plt.figure()\n",
    "Animate = mp.Animate2D(sim, fields=mp.Ez, f=f, realtime=False, normalize=True)\n",
    "\n",
    "# sim.run(mp.to_appended(\"ez\", mp.at_every(0.6, mp.output_efield_z)),\n",
    "#         mp.at_beginning(mp.output_epsilon()),\n",
    "#         until_after_sources=mp.stop_when_fields_decayed(50, mp.Ez, pt, 1e-3))\n",
    "\n",
    "sim.run(mp.at_every(0.5, Animate),\n",
    "        mp.at_beginning(mp.output_epsilon()),\n",
    "        until_after_sources=mp.stop_when_fields_decayed(50, mp.Ez, pt, 1e-3))\n",
    "\n",
    "# Close the animator's working frame\n",
    "plt.close()"
   ]
  },
  {
   "cell_type": "code",
   "execution_count": 24,
   "id": "0eea7808-358f-4dc8-8d73-497759f86844",
   "metadata": {},
   "outputs": [
    {
     "name": "stdout",
     "output_type": "stream",
     "text": [
      "Generating MP4...\n"
     ]
    },
    {
     "data": {
      "text/html": [
       "<video src=\"sim_output/wvgd_simple.mp4\" controls  >\n",
       "      Your browser does not support the <code>video</code> element.\n",
       "    </video>"
      ],
      "text/plain": [
       "<IPython.core.display.Video object>"
      ]
     },
     "execution_count": 24,
     "metadata": {},
     "output_type": "execute_result"
    }
   ],
   "source": [
    "filename=\"sim_output/wvgd_simple.mp4\"\n",
    "Animate.to_mp4(5, filename)\n",
    "Video(filename)"
   ]
  },
  {
   "cell_type": "code",
   "execution_count": null,
   "id": "4252d70c-18a2-4afc-aa28-2b3ef0aa6c83",
   "metadata": {},
   "outputs": [],
   "source": []
  }
 ],
 "metadata": {
  "kernelspec": {
   "display_name": "Python 3 (ipykernel)",
   "language": "python",
   "name": "python3"
  },
  "language_info": {
   "codemirror_mode": {
    "name": "ipython",
    "version": 3
   },
   "file_extension": ".py",
   "mimetype": "text/x-python",
   "name": "python",
   "nbconvert_exporter": "python",
   "pygments_lexer": "ipython3",
   "version": "3.10.4"
  }
 },
 "nbformat": 4,
 "nbformat_minor": 5
}
