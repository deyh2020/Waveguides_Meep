{
 "cells": [
  {
   "cell_type": "markdown",
   "id": "e9bcb490",
   "metadata": {
    "pycharm": {
     "name": "#%% md\n"
    }
   },
   "source": [
    "# This file is for messing around"
   ]
  },
  {
   "cell_type": "markdown",
   "id": "00f57337",
   "metadata": {
    "pycharm": {
     "name": "#%% md\n"
    }
   },
   "source": [
    "You've read enough, just get started or else you'll never really get a feel for it. "
   ]
  },
  {
   "cell_type": "markdown",
   "source": [
    "Remaining items to figure out:\n",
    "\n",
    "**1. How to implement material dispersion:**\n",
    "\n",
    "For a wavelength-dependent, purely-real permittivity (i.e., with no loss) which can be represented via the Sellmeier equation:\n",
    "\n",
    "$$\n",
    "\\epsilon(\\lambda) = 1 + \\sum_{n} \\frac{B_n \\lambda^2}{\\lambda^2 - C_n}\n",
    "$$\n",
    "\n",
    "where $\\lambda$ is the vacuum wavelength, each term containing two coefficients ($B_n$ and $C_n$) can be directly transferred to a Lorentzian polarization field using a simple substitution of variables: $\\omega_n = 1 \\big/ \\sqrt{C_n}$, $\\gamma_n = 0$ and $\\sigma_n = B_n$. Several examples of importing Sellmeier coefficients from published fitting data including [germanium](https://github.com/NanoComp/meep/blob/master/python/materials.py#L884-L901) (Ge) and [gallium nitride](https://github.com/NanoComp/meep/blob/master/python/materials.py#L1162-L1188) (GaN) are provided in the [Materials Library](https://meep.readthedocs.io/en/latest/Materials/#materials-library)."
   ],
   "metadata": {
    "collapsed": false,
    "pycharm": {
     "name": "#%% md\n"
    }
   }
  },
  {
   "cell_type": "markdown",
   "source": [
    "The Sellemeier coefficients for Lithium Niobate can be taken from PyNLO. What remains is how to implement a custom dispersion im MEEP!"
   ],
   "metadata": {
    "collapsed": false,
    "pycharm": {
     "name": "#%% md\n"
    }
   }
  },
  {
   "cell_type": "code",
   "execution_count": null,
   "outputs": [],
   "source": [
    "class DengSellmeier:\n",
    "    \"\"\" Temperature dependent refractive index for e axis of PPLN, using \n",
    "    equations from Deng et al.\"\"\"\n",
    "    a1  = 5.39121\n",
    "    a2  = 0.100473\n",
    "    a3  = 0.20692\n",
    "    a4  =  100.0\n",
    "    a5  = 11.34927\n",
    "    a6  =  1.544e-2\n",
    "    b1  = \t 4.96827e-7\n",
    "    b2  = \t 3.862e-8\n",
    "    b3  = \t -0.89e-8\n",
    "    b4  = \t 2.657e-5\n",
    "    b5  =   9.62119e-10\n",
    "    T   = 0\n",
    "    def __init__(self, T):\n",
    "        self.set_T_degC(T)\n",
    "    def set_T_degC(self, T):\n",
    "        self.T = T\n",
    "    def n(self, wl_nm, axis = None):\n",
    "        wl_um = wl_nm * 1.0e-3\n",
    "        f = (self.T - 24.5)*(self.T+570.82)\n",
    "        return np.sqrt(self.a1 + self.b1*f +\\\n",
    "                (self.a2 + self.b2*f)/(wl_um**2-(self.a3+self.b3*f)**2) +\\\n",
    "                (self.a4 + self.b4*f)/(wl_um**2 - self.a5**2) -\\\n",
    "                (self.a6 + self.b5*f) * wl_um**2)"
   ],
   "metadata": {
    "collapsed": false,
    "pycharm": {
     "name": "#%%\n"
    }
   }
  },
  {
   "cell_type": "markdown",
   "id": "252954f1",
   "metadata": {},
   "source": [
    "The Sellemeier coefficients for Lithium Niobate can be taken from PyNLO. What remains is how to implement a custom dispersion im MEEP!"
   ]
  },
  {
   "cell_type": "code",
   "execution_count": 1,
   "id": "65e97f12",
   "metadata": {},
   "outputs": [],
   "source": [
    "class DengSellmeier:\n",
    "    \"\"\" Temperature dependent refractive index for e axis of PPLN, using \n",
    "    equations from Deng et al.\"\"\"\n",
    "    a1  = 5.39121\n",
    "    a2  = 0.100473\n",
    "    a3  = 0.20692\n",
    "    a4  =  100.0\n",
    "    a5  = 11.34927\n",
    "    a6  =  1.544e-2\n",
    "    b1  = \t 4.96827e-7\n",
    "    b2  = \t 3.862e-8\n",
    "    b3  = \t -0.89e-8\n",
    "    b4  = \t 2.657e-5\n",
    "    b5  =   9.62119e-10\n",
    "    T   = 0\n",
    "    def __init__(self, T):\n",
    "        self.set_T_degC(T)\n",
    "    def set_T_degC(self, T):\n",
    "        self.T = T\n",
    "    def n(self, wl_nm, axis = None):\n",
    "        wl_um = wl_nm * 1.0e-3\n",
    "        f = (self.T - 24.5)*(self.T+570.82)\n",
    "        return np.sqrt(self.a1 + self.b1*f +\\\n",
    "                (self.a2 + self.b2*f)/(wl_um**2-(self.a3+self.b3*f)**2) +\\\n",
    "                (self.a4 + self.b4*f)/(wl_um**2 - self.a5**2) -\\\n",
    "                (self.a6 + self.b5*f) * wl_um**2)"
   ]
  },
  {
   "cell_type": "code",
   "execution_count": 2,
   "id": "d5262b9a",
   "metadata": {
    "pycharm": {
     "name": "#%%\n"
    }
   },
   "outputs": [],
   "source": [
    "import meep as mp\n",
    "import matplotlib.pyplot as plt\n",
    "import numpy as np"
   ]
  }
 ],
 "metadata": {
  "kernelspec": {
   "display_name": "Python 3 (ipykernel)",
   "language": "python",
   "name": "python3"
  },
  "language_info": {
   "codemirror_mode": {
    "name": "ipython",
    "version": 3
   },
   "file_extension": ".py",
   "mimetype": "text/x-python",
   "name": "python",
   "nbconvert_exporter": "python",
   "pygments_lexer": "ipython3",
   "version": "3.10.4"
  }
 },
 "nbformat": 4,
 "nbformat_minor": 5
}