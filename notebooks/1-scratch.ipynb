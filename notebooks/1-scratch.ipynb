{
 "cells": [
  {
   "cell_type": "markdown",
   "id": "e9bcb490",
   "metadata": {
    "pycharm": {
     "name": "#%% md\n"
    }
   },
   "source": [
    "# This file is for messing around"
   ]
  },
  {
   "cell_type": "markdown",
   "id": "00f57337",
   "metadata": {
    "pycharm": {
     "name": "#%% md\n"
    }
   },
   "source": [
    "You've read enough, just get started or else you'll never really get a feel for it. "
   ]
  },
  {
   "cell_type": "markdown",
   "id": "21f82ff2",
   "metadata": {
    "pycharm": {
     "name": "#%% md\n"
    }
   },
   "source": [
    "Remaining items to figure out:\n",
    "\n",
    "**1. How to implement material dispersion:**\n",
    "\n",
    "For a wavelength-dependent, purely-real permittivity (i.e., with no loss) which can be represented via the Sellmeier equation:\n",
    "\n",
    "$$\n",
    "\\epsilon(\\lambda) = 1 + \\sum_{n} \\frac{B_n \\lambda^2}{\\lambda^2 - C_n}\n",
    "$$\n",
    "\n",
    "where $\\lambda$ is the vacuum wavelength, each term containing two coefficients ($B_n$ and $C_n$) can be directly transferred to a Lorentzian polarization field using a simple substitution of variables: $\\omega_n = 1 \\big/ \\sqrt{C_n}$, $\\gamma_n = 0$ and $\\sigma_n = B_n$. Several examples of importing Sellmeier coefficients from published fitting data including [germanium](https://github.com/NanoComp/meep/blob/master/python/materials.py#L884-L901) (Ge) and [gallium nitride](https://github.com/NanoComp/meep/blob/master/python/materials.py#L1162-L1188) (GaN) are provided in the [Materials Library](https://meep.readthedocs.io/en/latest/Materials/#materials-library)."
   ]
  },
  {
   "cell_type": "code",
   "execution_count": 2,
   "id": "d5262b9a",
   "metadata": {
    "pycharm": {
     "name": "#%%\n"
    }
   },
   "outputs": [],
   "source": [
    "import meep as mp\n",
    "import matplotlib.pyplot as pltd\n",
    "import numpy as np"
   ]
  }
 ],
 "metadata": {
  "kernelspec": {
   "display_name": "Python 3 (ipykernel)",
   "language": "python",
   "name": "python3"
  },
  "language_info": {
   "codemirror_mode": {
    "name": "ipython",
    "version": 3
   },
   "file_extension": ".py",
   "mimetype": "text/x-python",
   "name": "python",
   "nbconvert_exporter": "python",
   "pygments_lexer": "ipython3",
   "version": "3.10.4"
  }
 },
 "nbformat": 4,
 "nbformat_minor": 5
}
