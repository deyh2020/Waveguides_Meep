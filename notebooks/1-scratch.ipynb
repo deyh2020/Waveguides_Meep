{
 "cells": [
  {
   "cell_type": "markdown",
   "id": "e9bcb490",
   "metadata": {
    "pycharm": {
     "name": "#%% md\n"
    }
   },
   "source": [
    "# This Notebook is for Notetaking"
   ]
  },
  {
   "cell_type": "markdown",
   "id": "fd3614f0-dc4f-4f5e-974f-83d518ecdd43",
   "metadata": {},
   "source": [
    "## Creating Videos from the MEEP Package"
   ]
  },
  {
   "cell_type": "markdown",
   "id": "d9466f4b-efe3-4882-a731-3a1c214cd527",
   "metadata": {},
   "source": [
    "Take a look at the code block below. They run the simulation into steady state. Note that in a simulation, you can always \"pick up where you left off\" by calling the run command again!\n",
    "\n",
    "```python\n",
    "sim.reset_meep()\n",
    "fcen=0.118\n",
    "df = 0.1\n",
    "sim.sources = [mp.Source(mp.GaussianSource(fcen, fwidth=df), mp.Ez, mp.Vector3(r+0.1))]\n",
    "\n",
    "# Start the simulation and get into steady state\n",
    "sim.run(until=600) \n",
    "\n",
    "# Prepare the animator and record the steady state response\n",
    "f = plt.figure(dpi=150)\n",
    "Animate = mp.Animate2D(sim, fields=mp.Ez, f=f, realtime=False, normalize=True)\n",
    "sim.run(mp.at_every(0.5,Animate),until=25)\n",
    "\n",
    "# Close the animator's working frame\n",
    "plt.close()\n",
    "\n",
    "# Process the animation and view it\n",
    "filename = \"media/ring_simple.mp4\"\n",
    "Animate.to_mp4(5,filename)\n",
    "Video(filename)\n",
    "```"
   ]
  },
  {
   "cell_type": "markdown",
   "id": "8ba8afb8-cf3f-42d1-b302-f46c3567f485",
   "metadata": {},
   "source": [
    "They can also create an Animate2D instance (there's also an Animate3D class). You need to have an active matplotlib figure while the simulation is running, and then you can create an mp4 video at the end. Of course if you want the png files instead, that may require that you actually save the fields instead. But just note that if you're not making a gif, most of the time you don't care about the fields during the simulation besides for the purpose of making a gif. "
   ]
  },
  {
   "cell_type": "markdown",
   "id": "310bef42",
   "metadata": {
    "pycharm": {
     "name": "#%% md\n"
    }
   },
   "source": [
    "## Material Dispersion"
   ]
  },
  {
   "cell_type": "markdown",
   "id": "7bfd9e87",
   "metadata": {
    "pycharm": {
     "name": "#%% md\n"
    }
   },
   "source": [
    "For a wavelength-dependent, purely-real permittivity (i.e., with no loss) which can be represented via the Sellmeier equation:\n",
    "\n",
    "$$\n",
    "\\epsilon(\\lambda) = 1 + \\sum_{n} \\frac{B_n \\lambda^2}{\\lambda^2 - C_n}\n",
    "$$\n",
    "\n",
    "where $\\lambda$ is the vacuum wavelength, each term containing two coefficients ($B_n$ and $C_n$) can be directly transferred to a Lorentzian polarization field using a simple substitution of variables: $\\omega_n = 1 \\big/ \\sqrt{C_n}$, $\\gamma_n = 0$ and $\\sigma_n = B_n$. Several examples of importing Sellmeier coefficients from published fitting data including [germanium](https://github.com/NanoComp/meep/blob/master/python/materials.py#L884-L901) (Ge) and [gallium nitride](https://github.com/NanoComp/meep/blob/master/python/materials.py#L1162-L1188) (GaN) are provided in the [Materials Library](https://meep.readthedocs.io/en/latest/Materials/#materials-library)."
   ]
  },
  {
   "cell_type": "markdown",
   "id": "0bfd6854",
   "metadata": {
    "pycharm": {
     "name": "#%% md\n"
    }
   },
   "source": [
    "As an example, we can look at Lithium Niobate in MEEP's Materials library. \n",
    "\n",
    "They define $\\gamma, \\omega$ and $\\sigma$ for several Lorentzian terms for the ordinary and extraordinary axis, and then generate the susceptibility by including each Lorentzian in a list. For defining new materials you can follow this template."
   ]
  },
  {
   "cell_type": "markdown",
   "id": "669645f9-654f-4a63-8088-b888ba5d04e4",
   "metadata": {},
   "source": [
    "```python\n",
    "# default unit length is 1 μm\n",
    "um_scale = 1.0\n",
    "\n",
    "# conversion factor for eV to 1/μm [=1/hc]\n",
    "eV_um_scale = um_scale/1.23984193\n",
    "\n",
    "# lithium niobate (LiNbO3) from D.E. Zelmon et al., J. Optical Society of America B, Vol. 14, pp. 3319-22 (1997)\n",
    "# ref: https://refractiveindex.info/?shelf=main&book=LiNbO3&page=Zelmon-o\n",
    "# ref: https://refractiveindex.info/?shelf=main&book=LiNbO3&page=Zelmon-e\n",
    "# wavelength range: 0.4 - 5.0 μm\n",
    "\n",
    "## NOTE: ordinary (o) axes in X and Y, extraordinary (e) axis in Z\n",
    "\n",
    "LiNbO3_range = mp.FreqRange(min=um_scale/5.0, max=um_scale/0.4)\n",
    "\n",
    "LiNbO3_frq1 = 1/(0.13281566172707193*um_scale)\n",
    "LiNbO3_gam1 = 0\n",
    "LiNbO3_sig1 = 2.6734\n",
    "LiNbO3_frq2 = 1/(0.24318717071424636*um_scale)\n",
    "LiNbO3_gam2 = 0\n",
    "LiNbO3_sig2 = 1.2290\n",
    "LiNbO3_frq3 = 1/(21.78531615561271*um_scale)\n",
    "LiNbO3_gam3 = 0\n",
    "LiNbO3_sig3 = 12.614\n",
    "\n",
    "LiNbO3_susc_o = [mp.LorentzianSusceptibility(frequency=LiNbO3_frq1, gamma=LiNbO3_gam1, sigma_diag=LiNbO3_sig1*mp.Vector3(1,1,0)),\n",
    "                 mp.LorentzianSusceptibility(frequency=LiNbO3_frq2, gamma=LiNbO3_gam2, sigma_diag=LiNbO3_sig2*mp.Vector3(1,1,0)),\n",
    "                 mp.LorentzianSusceptibility(frequency=LiNbO3_frq3, gamma=LiNbO3_gam3, sigma_diag=LiNbO3_sig3*mp.Vector3(1,1,0))]\n",
    "\n",
    "LiNbO3_frq1 = 1/(0.14307340773183533*um_scale)\n",
    "LiNbO3_gam1 = 0\n",
    "LiNbO3_sig1 = 2.9804\n",
    "LiNbO3_frq2 = 1/(0.2580697580112788*um_scale)\n",
    "LiNbO3_gam2 = 0\n",
    "LiNbO3_sig2 = 0.5981\n",
    "LiNbO3_frq3 = 1/(20.39803912144498*um_scale)\n",
    "LiNbO3_gam3 = 0\n",
    "LiNbO3_sig3 = 8.9543\n",
    "\n",
    "LiNbO3_susc_e = [mp.LorentzianSusceptibility(frequency=LiNbO3_frq1, gamma=LiNbO3_gam1, sigma_diag=LiNbO3_sig1*mp.Vector3(0,0,1)),\n",
    "                 mp.LorentzianSusceptibility(frequency=LiNbO3_frq2, gamma=LiNbO3_gam2, sigma_diag=LiNbO3_sig2*mp.Vector3(0,0,1)),\n",
    "                 mp.LorentzianSusceptibility(frequency=LiNbO3_frq3, gamma=LiNbO3_gam3, sigma_diag=LiNbO3_sig3*mp.Vector3(0,0,1))]\n",
    "\n",
    "LiNbO3 = mp.Medium(epsilon=1.0, E_susceptibilities=LiNbO3_susc_o+LiNbO3_susc_e, valid_freq_range=LiNbO3_range)\n",
    "```"
   ]
  },
  {
   "cell_type": "markdown",
   "id": "7d55ab40",
   "metadata": {
    "pycharm": {
     "name": "#%% md\n"
    }
   },
   "source": [
    "## Harminv"
   ]
  },
  {
   "cell_type": "markdown",
   "id": "f1030507",
   "metadata": {
    "pycharm": {
     "name": "#%% md\n"
    }
   },
   "source": [
    "**Items to figure out:** \n",
    "1. How to use Harminv\n",
    "    1. do you know what it does?\n",
    "\n",
    "2. Extend to three dimensions to provide 2D confinement (this affects the waveguide dispersion).\n",
    "    1. can you add the silica substrate? (this should also affect the waveguide dispersion)"
   ]
  },
  {
   "cell_type": "markdown",
   "id": "bb24ae4b-9e9f-43fe-adfb-8693dfc60761",
   "metadata": {},
   "source": [
    "## Useful Examples to look at:"
   ]
  },
  {
   "cell_type": "markdown",
   "id": "b6434249-d716-4d45-a200-7de156963148",
   "metadata": {},
   "source": [
    "1. mode-decomposition\n",
    "    1. This calculates the reflection spectrum of a taper in a waveguide. It also shows you how to use **EigenModeSource**"
   ]
  }
 ],
 "metadata": {
  "kernelspec": {
   "display_name": "Python 3 (ipykernel)",
   "language": "python",
   "name": "python3"
  },
  "language_info": {
   "codemirror_mode": {
    "name": "ipython",
    "version": 3
   },
   "file_extension": ".py",
   "mimetype": "text/x-python",
   "name": "python",
   "nbconvert_exporter": "python",
   "pygments_lexer": "ipython3",
   "version": "3.10.4"
  }
 },
 "nbformat": 4,
 "nbformat_minor": 5
}
